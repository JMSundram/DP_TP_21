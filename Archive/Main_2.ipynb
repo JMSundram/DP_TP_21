{
 "cells": [
  {
   "cell_type": "code",
   "execution_count": 8,
   "metadata": {},
   "outputs": [
    {
     "name": "stdout",
     "output_type": "stream",
     "text": [
      "The autoreload extension is already loaded. To reload it, use:\n",
      "  %reload_ext autoreload\n"
     ]
    }
   ],
   "source": [
    "%load_ext autoreload\n",
    "%autoreload 2\n",
    "\n",
    "import time\n",
    "import numpy as np\n",
    "import matplotlib.pyplot as plt\n",
    "import tools\n",
    "from ConsumptionSavingModel import ConsumptionSavingModelClass\n",
    "from consav import ModelClass, jit # baseline model class and jit\n",
    "from consav import linear_interp # linear interpolation\n",
    "from consav.grids import nonlinspace # grids\n",
    "from consav.quadrature import log_normal_gauss_hermite # income shocks\n",
    "from consav.misc import elapsed\n",
    "from scipy import optimize"
   ]
  },
  {
   "cell_type": "markdown",
   "metadata": {},
   "source": [
    "### Parameters"
   ]
  },
  {
   "cell_type": "code",
   "execution_count": 9,
   "metadata": {},
   "outputs": [],
   "source": [
    "# Initialize parameter class\n",
    "class par: pass\n",
    "\n",
    "# Scalar parameters\n",
    "par.alpha = 0.15 # Fraction of income earned as holiday pay\n",
    "par.T = 30 # Number of periods\n",
    "par.TR = 20 # Retirement age\n",
    "par.TH = 10 # Holiday payout age\n",
    "par.rho  = 2.0 # CRRA coeficient\n",
    "par.beta = 0.96 # Discount factor\n",
    "par.G = 1.02 # Permanten income growth factor\n",
    "par.sigma_xi = 0.1 # Standard deviaton of transitory shock\n",
    "par.sigma_psi = 0.1 # Standard deviaton of permanent shock\n",
    "par.pi = 0.005 # Probability of low income shock\n",
    "par.mu = 0.0 # Value of low income shock\n",
    "par.R = 1.04 # Asset return factor\n",
    "par.delta = 1.01 # Holiday pay return factor\n",
    "par.m_max = 20.0 # Maximum point in grid for m\n",
    "par.m_phi = 1.1 # Curvature of grid for m\n",
    "par.h_max = 1 # Maximum point in grid for h\n",
    "par.h_phi = 1.1 # Curvature of grid for h\n",
    "par.Nxi = 8 # Number of quadrature points for xi\n",
    "par.Npsi = 8 # Number of quadrature points for psi\n",
    "par.Nm = 100 # Number of points in grid for m\n",
    "par.Nh = 12 # Number of points in grid for h\n",
    "par.sim_mini = 2.5 # Initial m in simulation\n",
    "par.simN = 10_000 # Number of persons in simulation\n",
    "par.seed = 2021 # Seed for random draws\n",
    "\n",
    "# Life cycle\n",
    "par.L = np.ones(par.T)\n",
    "par.L[:par.TR] = np.linspace(1,1/(par.G),par.TR)\n",
    "par.L[par.TR-1] = 0.90\n",
    "par.L[par.TR-1:] = par.L[par.TR-1:]/par.G"
   ]
  },
  {
   "cell_type": "markdown",
   "metadata": {},
   "source": [
    "### Model"
   ]
  },
  {
   "cell_type": "code",
   "execution_count": 39,
   "metadata": {},
   "outputs": [],
   "source": [
    "def run_model(par):\n",
    "    # 1. Prepare grids and allocate solution\n",
    "    # Gauss Hermite\n",
    "    psi, psi_w = log_normal_gauss_hermite(sigma=par.sigma_psi,n=par.Npsi)\n",
    "    xi, xi_w = log_normal_gauss_hermite(sigma=par.sigma_xi,n=par.Nxi)\n",
    "\n",
    "    # Add low income shock to xi\n",
    "    if par.pi > 0:\n",
    "        # Weights\n",
    "        xi_w *= (1.0-par.pi)\n",
    "        xi_w = np.insert(xi_w,0,par.pi)\n",
    "\n",
    "        # Values\n",
    "        xi = (xi-par.mu*par.pi)/(1.0-par.pi)\n",
    "        xi = np.insert(xi,0,par.mu)\n",
    "\n",
    "    # Vectorize tensor product of shocks and total weight\n",
    "    psi_vec,xi_vec = np.meshgrid(psi,xi,indexing='ij')\n",
    "    psi_w_vec,xi_w_vec = np.meshgrid(psi_w,xi_w,indexing='ij')\n",
    "\n",
    "    par.psi_vec = psi_vec.ravel()\n",
    "    par.xi_vec = xi_vec.ravel()\n",
    "    par.w = xi_w_vec.ravel()*psi_w_vec.ravel()\n",
    "\n",
    "    assert 1-np.sum(par.w) < 1e-8 # Check if weights sum to 1\n",
    "\n",
    "    # Count number of shock nodes\n",
    "    par.Nshocks = par.w.size\n",
    "\n",
    "    # Create grids\n",
    "    par.grid_m = nonlinspace(1e-6,par.m_max,par.Nm,par.m_phi)\n",
    "    par.grid_h = nonlinspace(1e-6,par.h_max,par.Nh,par.h_phi)\n",
    "     \n",
    "    # Create solution and simulation\n",
    "    class sol: pass\n",
    "    class sim: pass\n",
    "\n",
    "    # Allocate memory for solution\n",
    "    sol_shape = (par.T,par.Nm,2,par.Nh) # (Time, cash-on-hand, holiday pay indicator, holiday pay amount)\n",
    "    sol.c = np.zeros(sol_shape)\n",
    "    sol.inv_v = np.zeros(sol_shape)\n",
    "\n",
    "    # Allocate memory for simulation\n",
    "    sim_shape = (par.simN,par.T)\n",
    "    sim.m = np.zeros(sim_shape)\n",
    "    sim.c = np.zeros(sim_shape)\n",
    "    sim.a = np.zeros(sim_shape)\n",
    "    sim.p = np.zeros(sim_shape)\n",
    "    sim.y = np.zeros(sim_shape)\n",
    "    sim.psi = np.zeros(sim_shape)\n",
    "    sim.xi = np.zeros(sim_shape)\n",
    "    sim.P = np.zeros(sim_shape)\n",
    "    sim.Y = np.zeros(sim_shape)\n",
    "    sim.M = np.zeros(sim_shape)\n",
    "    sim.C = np.zeros(sim_shape)\n",
    "    sim.A = np.zeros(sim_shape)\n",
    "    sim.z = np.zeros((par.simN), dtype=int)\n",
    "    sim.h = np.zeros(sim_shape)\n",
    "    \n",
    "    # 2. Solve model by VFI\n",
    "    def utility(c, par):\n",
    "        return c**(1-par.rho)/(1-par.rho)    \n",
    "\n",
    "    def marg_utility(c, par):\n",
    "        return c**(-par.rho)      \n",
    "\n",
    "    def inv_marg_utility(u, par):\n",
    "        return u**(-1/par.rho)  \n",
    "\n",
    "    def value_of_choice(c,t,m,h,z):\n",
    "        # End-of-period assets\n",
    "        a = m-c\n",
    "\n",
    "        # Next-period cash-on-hand\n",
    "        h_term = 0.0\n",
    "        inv_v_plus = np.zeros(par.xi_vec.size)\n",
    "        \n",
    "        # Calculate inverse value-of-choice in next period\n",
    "        still_working_next_period = t+1 <= par.TR-1\n",
    "        if still_working_next_period:\n",
    "            fac = par.G*par.L[t]*par.psi_vec\n",
    "            w = par.w\n",
    "            xi = par.xi_vec\n",
    "            h_plus = (par.delta/fac)*h\n",
    "            if t+1 == par.TH and z == 1: h_term = h_plus\n",
    "            m_plus = (par.R/fac)*a + xi + h_term\n",
    "            h_plus_vec = np.repeat(h_plus, len(m_plus))\n",
    "            inv_v_plus = tools.interp_2d_vec(par.grid_m, par.grid_h, sol.inv_v[t+1,:,z,:], m_plus, h_plus_vec)\n",
    "        else:\n",
    "            fac = par.G*par.L[t]\n",
    "            w = 1\n",
    "            xi = 1\n",
    "            h_plus = (par.delta/fac)*h\n",
    "            if t+1 == par.TR and z == 0: h_term = h_plus\n",
    "            m_plus = (par.R/fac)*a + xi + h_term\n",
    "            inv_v_plus = tools.interp_2d(par.grid_m, par.grid_h, sol.inv_v[t+1,:,z,:], m_plus, h_plus)\n",
    "\n",
    "        # Value-of-choice\n",
    "        v_plus = 1/inv_v_plus\n",
    "        total = utility(c,par) + par.beta*np.sum(w*fac**(1-par.rho)*v_plus)\n",
    "        return -total\n",
    "\n",
    "    # Last period (= consume all)\n",
    "    for z in [0, 1]:\n",
    "        for i_h in range(par.Nh):\n",
    "            sol.c[-1,:,z,i_h] = par.grid_m\n",
    "            for i,c in enumerate(sol.c[-1,:,z,i_h]):\n",
    "                sol.inv_v[-1,i,z,i_h] = 1.0/utility(c,par)\n",
    "\n",
    "        # Before last period\n",
    "        for t in reversed(range(par.T-1)):\n",
    "            for i_h, h in enumerate(par.grid_h):\n",
    "                for i_m, m in enumerate(par.grid_m):\n",
    "                    if t >= par.TR and (z == 1 or i_h != 0): # After retirement, solution is independent of z and h [1]\n",
    "                        sol.c[t,i_m,z,i_h] = sol.c[t,i_m,0,0]\n",
    "                        sol.inv_v[t,i_m,z,i_h] = sol.inv_v[t,i_m,0,0]\n",
    "                    else:\n",
    "                        if t >= par.TH and z == 1 and i_h != 0: # After holiday pay, solution is independent of h [2]\n",
    "                            sol.c[t,i_m,z,i_h] = sol.c[t,i_m,z,0]\n",
    "                            sol.inv_v[t,i_m,z,i_h] = sol.inv_v[t,i_m,z,0]\n",
    "                        else:\n",
    "                            obj = lambda c: value_of_choice(c,t,m,h,z)\n",
    "                            result = optimize.minimize_scalar(obj,method='bounded',bounds=(0,m))\n",
    "\n",
    "                            sol.c[t,i_m,z,i_h] = result.x\n",
    "                            sol.inv_v[t,i_m,z,i_h] = -1.0/result.fun\n",
    "\n",
    "    # 3. Simulate model\n",
    "    # Set seed\n",
    "    np.random.seed(par.seed)\n",
    "\n",
    "    # Shocks\n",
    "    _shocki = np.random.choice(par.Nshocks,size=(par.simN,par.T),p=par.w)\n",
    "    sim.psi[:] = par.psi_vec[_shocki]\n",
    "    sim.xi[:] = par.xi_vec[_shocki]\n",
    "\n",
    "    # Initial values\n",
    "    sim.m[:,0] = par.sim_mini \n",
    "    sim.p[:,0] = 0.0\n",
    "\n",
    "    # loop over first households and then time\n",
    "    for i in range(par.simN):\n",
    "        h_term = 0.0\n",
    "        for t in range(par.T):\n",
    "            # Consumption\n",
    "            sim.c[i,t] = tools.interp_2d(par.grid_m, par.grid_h, sol.c[t,:,sim.z[i],:], sim.m[i,t], sim.h[i][t])\n",
    "            sim.a[i,t] = sim.m[i,t] - sim.c[i,t]\n",
    "            \n",
    "#             if t+1 == par.TH:\n",
    "#                 sim.h[i][t] = par.alpha/(par.G*par.L[t]*sim.psi[i,t+1])\n",
    "#                 inv_v0 = tools.interp_2d(par.grid_m, par.grid_h, sol.inv_v[t,:,0,:], sim.m[i,t], sim.h[i][t])\n",
    "#                 inv_v1 = tools.interp_2d(par.grid_m, par.grid_h, sol.inv_v[t,:,1,:], sim.m[i,t], sim.h[i][t])\n",
    "#                 if inv_v0 > inv_v1: # Early payment preferred\n",
    "#                     sim.z[i] = 1\n",
    "#                 else:\n",
    "#                     sim.z[i] = 0\n",
    "            \n",
    "            # Next period\n",
    "\n",
    "        \n",
    "            if t < par.T-1:\n",
    "                if t+1 < par.TH:\n",
    "                    sim.h[i,t+1] = 0\n",
    "                elif t+1 == par.TH:\n",
    "                    sim.h[i][t+1] = par.alpha/(par.G*par.L[t]*sim.psi[i,t+1])\n",
    "                    inv_v0 = tools.interp_2d(par.grid_m, par.grid_h, sol.inv_v[t,:,0,:], sim.m[i,t], sim.h[i][t+1])\n",
    "                    inv_v1 = tools.interp_2d(par.grid_m, par.grid_h, sol.inv_v[t,:,1,:], sim.m[i,t], sim.h[i][t+1])\n",
    "                    if inv_v0 > inv_v1: # Early payment preferred\n",
    "                        sim.z[i] = 1\n",
    "                    else:\n",
    "                        sim.z[i] = 0\n",
    "                elif t+1 > par.TH and t+1 <= par.TR:\n",
    "                    sim.h[i][t+1] = par.delta*sim.h[i,t]/(par.G*par.L[t]*sim.psi[i,t+1]) \n",
    "                elif t+1 > par.TR:\n",
    "                    sim.h[i][t+1] = 0\n",
    "                #if t > par.TR-1:\n",
    "                #    sim.h[i,t+1] = 0\n",
    "                #else:\n",
    "                #    sim.h[i,t+1] = par.delta*sim.h[i,t]/(par.G*par.L[t]*sim.psi[i,t+1])\n",
    "                \n",
    "                if t+1 == par.TH and sim.z[i] == 1:\n",
    "                    h_term = sim.h[i,t+1]\n",
    "                elif t+1 == par.TR and sim.z[i] == 0:\n",
    "                    h_term = sim.h[i,t+1]\n",
    "                else:\n",
    "                    h_term = 0.0\n",
    "                    \n",
    "                if t+1 > par.TR-1:\n",
    "                    sim.m[i,t+1] = par.R*sim.a[i,t] / (par.G*par.L[t]) + 1 + h_term\n",
    "                    sim.p[i,t+1] = np.log(par.G) + np.log(par.L[t]) + sim.p[i,t]\n",
    "                    sim.y[i,t+1] = sim.p[i,t+1]\n",
    "                else:\n",
    "                    sim.m[i,t+1] = par.R*sim.a[i,t] / (par.G*par.L[t]*sim.psi[i,t+1]) + sim.xi[i,t+1] + h_term\n",
    "                    sim.p[i,t+1] = np.log(par.G) + np.log(par.L[t]) + sim.p[i,t] + np.log(sim.psi[i,t+1])   \n",
    "                    if sim.xi[i,t+1] > 0:\n",
    "                        sim.y[i,t+1] = sim.p[i,t+1] + np.log(sim.xi[i,t+1])\n",
    "    \n",
    "    # Renormalize\n",
    "    sim.P[:,:] = np.exp(sim.p)\n",
    "    sim.Y[:,:] = np.exp(sim.y)\n",
    "    sim.M[:,:] = sim.m*sim.P\n",
    "    sim.C[:,:] = sim.c*sim.P\n",
    "    sim.A[:,:] = sim.a*sim.P\n",
    "\n",
    "    return sol, sim"
   ]
  },
  {
   "cell_type": "markdown",
   "metadata": {},
   "source": [
    "### Run model"
   ]
  },
  {
   "cell_type": "code",
   "execution_count": 40,
   "metadata": {},
   "outputs": [
    {
     "name": "stdout",
     "output_type": "stream",
     "text": [
      "Total runtime: 39.34 seconds\n",
      "Fraction getting early payments: 0.000\n"
     ]
    }
   ],
   "source": [
    "t0 = time.time()\n",
    "sol, sim = run_model(par)\n",
    "t1 = time.time()\n",
    "print(f'Total runtime: {t1-t0:.2f} seconds')\n",
    "print(f'Fraction getting early payments: {sim.z.mean():.3f}')"
   ]
  },
  {
   "cell_type": "markdown",
   "metadata": {},
   "source": [
    "### Checks"
   ]
  },
  {
   "cell_type": "markdown",
   "metadata": {},
   "source": [
    "**Check 1:** Plot consumption for both consumers getting early and late payments"
   ]
  },
  {
   "cell_type": "code",
   "execution_count": 43,
   "metadata": {},
   "outputs": [
    {
     "name": "stdout",
     "output_type": "stream",
     "text": [
      "Early: 0.000\n",
      "Late:  1.000\n"
     ]
    },
    {
     "name": "stderr",
     "output_type": "stream",
     "text": [
      "<ipython-input-43-447f1791a8c6>:15: RuntimeWarning: Mean of empty slice.\n",
      "  plt.plot(sim_var_early.mean(axis=0), label='early')\n",
      "C:\\Users\\Jacob\\anaconda3\\lib\\site-packages\\numpy\\core\\_methods.py:162: RuntimeWarning: invalid value encountered in true_divide\n",
      "  ret = um.true_divide(\n"
     ]
    },
    {
     "data": {
      "image/png": "[encoded data removed]",
      "text/plain": [
       "<Figure size 432x288 with 1 Axes>"
      ]
     },
     "metadata": {},
     "output_type": "display_data"
    }
   ],
   "source": [
    "N_early = sum(sim.z)\n",
    "N_late  = par.simN - N_early\n",
    "sim_var_early = np.nan + np.zeros((N_early,par.T))\n",
    "sim_var_late  = np.nan + np.zeros((N_late,par.T))\n",
    "i_early = 0\n",
    "i_late  = 0\n",
    "for i,z_i in enumerate(sim.z):\n",
    "    if z_i == 1:\n",
    "        sim_var_early[i_early,:] = sim.C[i,:]\n",
    "        i_early = i_early + 1\n",
    "    else:\n",
    "        sim_var_late[i_late,:]   = sim.C[i,:]\n",
    "        i_late = i_late + 1\n",
    "        \n",
    "plt.plot(sim_var_early.mean(axis=0), label='early')\n",
    "plt.plot(sim_var_late.mean(axis=0),  label='late')\n",
    "plt.legend()\n",
    "print(f'Early: {N_early/(N_early+N_late):.3f}')\n",
    "print(f'Late:  {N_late/(N_early+N_late):.3f}')"
   ]
  },
  {
   "cell_type": "markdown",
   "metadata": {},
   "source": [
    "**Check 2:** Fraction of early payments as a function of $\\delta$"
   ]
  },
  {
   "cell_type": "code",
   "execution_count": null,
   "metadata": {},
   "outputs": [],
   "source": [
    "print(f'delta - mean of z')\n",
    "for delta in [1.061, 1.062, 1.063]:\n",
    "    par.delta = delta\n",
    "    sol, sim = run_model(par)\n",
    "    z_mean = sim.z.mean()\n",
    "    print(f'{delta:.3f}   {z_mean:.3f}')\n",
    "par.delta = 1.0625"
   ]
  },
  {
   "cell_type": "markdown",
   "metadata": {},
   "source": [
    "**Check 3:** Fraction of early payments as a function of $\\sigma_\\xi=\\sigma_\\psi:=\\sigma$"
   ]
  },
  {
   "cell_type": "code",
   "execution_count": null,
   "metadata": {},
   "outputs": [],
   "source": [
    "print(f'sigma  - mean of z')\n",
    "for sigma in [0.05, 0.10, 0.15]:\n",
    "    par.sigma_xi  = sigma\n",
    "    par.sigma_psi = sigma\n",
    "    sol, sim = run_model(par)\n",
    "    z_mean = sim.z.mean()\n",
    "    print(f'{sigma:.2f}   {z_mean:.3f}')\n",
    "par.sigma_xi  = 0.1\n",
    "par.sigma_psi = 0.1"
   ]
  },
  {
   "cell_type": "markdown",
   "metadata": {},
   "source": [
    "**Check 4:** Re-create standard buffer stock model (matches page 43 of 'ConsumptionSaving.pdf')"
   ]
  },
  {
   "cell_type": "code",
   "execution_count": null,
   "metadata": {},
   "outputs": [],
   "source": [
    "par.alpha = 0\n",
    "par.simN = 100_000\n",
    "par.Nh = 2\n",
    "par.T = 65\n",
    "par.TR = 40\n",
    "par.L = np.ones(par.T)\n",
    "par.L[:par.TR] = np.linspace(1,1/(par.G),par.TR)\n",
    "par.L[par.TR-1] = 0.90\n",
    "par.L[par.TR-1:] = par.L[par.TR-1:]/par.G\n",
    "sol, sim = run_model(par)\n",
    "\n",
    "fig,ax = plt.subplots(2,2,figsize=(8,6),dpi=100)\n",
    "ax[0,0].plot(range(25,90), sim.Y.mean(axis=0))\n",
    "ax[0,1].plot(range(25,90), sim.M.mean(axis=0))\n",
    "ax[1,0].plot(range(25,90), sim.C.mean(axis=0))\n",
    "ax[1,1].plot(range(25,90), sim.A.mean(axis=0))\n",
    "ax[0,0].set_title('Income, $Y_t$')\n",
    "ax[0,1].set_title('Cash-on-hand, $M_t$')\n",
    "ax[1,0].set_title('Consumption, $C_t$')\n",
    "ax[1,1].set_title('End-of-period assets, $A_t$')\n",
    "ax[0,0].grid(alpha=1/3)\n",
    "ax[0,1].grid(alpha=1/3)\n",
    "ax[1,0].grid(alpha=1/3)\n",
    "ax[1,1].grid(alpha=1/3)\n",
    "fig.subplots_adjust(hspace=1/3)\n",
    "\n",
    "par.alpha = 0.15\n",
    "par.simN = 10_000\n",
    "par.T = 30\n",
    "par.TR = 20\n",
    "par.L = np.ones(par.T)\n",
    "par.L[:par.TR] = np.linspace(1,1/(par.G),par.TR)\n",
    "par.L[par.TR-1] = 0.90\n",
    "par.L[par.TR-1:] = par.L[par.TR-1:]/par.G"
   ]
  },
  {
   "cell_type": "markdown",
   "metadata": {},
   "source": [
    "**Check 5:** Fraction of early payments as a function of $\\delta$ in de-complexified version of model"
   ]
  },
  {
   "cell_type": "code",
   "execution_count": null,
   "metadata": {},
   "outputs": [],
   "source": [
    "# Turn of most complexifying aspects of model\n",
    "par.delta = 1\n",
    "par.sigma_xi = 0\n",
    "par.sigma_psi = 0\n",
    "par.mu = 1\n",
    "par.pi = 0\n",
    "par.R = 1\n",
    "par.G = 1\n",
    "par.beta = 1\n",
    "par.L = np.ones((par.T))\n",
    "\n",
    "# Check: Early payments as a function of delta\n",
    "print(f'delta - mean of z')\n",
    "for delta in [0.999, 1.001]:\n",
    "    par.delta = delta\n",
    "    sol, sim = run_model(par)\n",
    "    z_mean = sim.z.mean()\n",
    "    print(f'{delta:.3f}   {z_mean:.3f}')"
   ]
  }
 ],
 "metadata": {
  "kernelspec": {
   "display_name": "Python 3",
   "language": "python",
   "name": "python3"
  },
  "language_info": {
   "codemirror_mode": {
    "name": "ipython",
    "version": 3
   },
   "file_extension": ".py",
   "mimetype": "text/x-python",
   "name": "python",
   "nbconvert_exporter": "python",
   "pygments_lexer": "ipython3",
   "version": "3.8.5"
  }
 },
 "nbformat": 4,
 "nbformat_minor": 4
}
