{
 "cells": [
  {
   "cell_type": "code",
   "execution_count": 1,
   "metadata": {},
   "outputs": [],
   "source": [
    "import urllib.request\n",
    "import json\n",
    "import numpy as np"
   ]
  },
  {
   "cell_type": "code",
   "execution_count": 2,
   "metadata": {},
   "outputs": [],
   "source": [
    "# Settings\n",
    "save = False"
   ]
  },
  {
   "cell_type": "code",
   "execution_count": 3,
   "metadata": {},
   "outputs": [],
   "source": [
    "# Load data from internet and store in list\n",
    "url_data = 'https://tools.morningstar.dk/api/rest.svc/timeseries_price/nen6ere626?'\\\n",
    "           + 'id=F00000LZSY%5D2%5D1%5D&currencyId=DKK&idtype=Morningstar&priceType'\\\n",
    "           + '=&frequency=daily&startDate=2005-06-30&endDate=2021-03-04&outputType=COMPACTJSON'\n",
    "with urllib.request.urlopen(url_data) as url:\n",
    "    data = json.loads(url.read().decode())\n",
    "idx_series = [data_point[1] for data_point in data]"
   ]
  },
  {
   "cell_type": "code",
   "execution_count": 4,
   "metadata": {},
   "outputs": [],
   "source": [
    "# Save data\n",
    "if save:\n",
    "    with open('idx_series.txt', 'w') as f:\n",
    "        for item in idx_series:\n",
    "            f.write(\"%s\\n\" % item)"
   ]
  },
  {
   "cell_type": "code",
   "execution_count": 5,
   "metadata": {},
   "outputs": [],
   "source": [
    "# Calculate returns\n",
    "returns = []\n",
    "for y in range(len(idx_series)):\n",
    "    try:\n",
    "        return_ = (idx_series[y+1]/idx_series[y]-1)\n",
    "        returns.append(return_)\n",
    "    except:\n",
    "        break"
   ]
  },
  {
   "cell_type": "code",
   "execution_count": 6,
   "metadata": {},
   "outputs": [
    {
     "name": "stdout",
     "output_type": "stream",
     "text": [
      "Mean:      0.053\n",
      "Std. dev.: 0.045\n",
      "Variance:  0.002\n",
      "Sigma:     0.045\n"
     ]
    }
   ],
   "source": [
    "# Calculate relevant statistics and print them\n",
    "mean = np.mean(returns)*252\n",
    "std = np.array(returns).std()*np.sqrt(252)\n",
    "var = std**2\n",
    "sig = np.sqrt(np.log(var+1))\n",
    "print(f'Mean:      {mean:.3f}')\n",
    "print(f'Std. dev.: {std:.3f}')\n",
    "print(f'Variance:  {var:.3f}')\n",
    "print(f'Sigma:     {sig:.3f}')"
   ]
  }
 ],
 "metadata": {
  "kernelspec": {
   "display_name": "Python 3",
   "language": "python",
   "name": "python3"
  },
  "language_info": {
   "codemirror_mode": {
    "name": "ipython",
    "version": 3
   },
   "file_extension": ".py",
   "mimetype": "text/x-python",
   "name": "python",
   "nbconvert_exporter": "python",
   "pygments_lexer": "ipython3",
   "version": "3.8.5"
  }
 },
 "nbformat": 4,
 "nbformat_minor": 4
}
