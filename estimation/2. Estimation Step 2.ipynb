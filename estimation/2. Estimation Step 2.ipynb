{
 "cells": [
  {
   "cell_type": "code",
   "execution_count": 1,
   "metadata": {},
   "outputs": [],
   "source": [
    "import numpy as np\n",
    "import time\n",
    "from scipy.optimize import minimize\n",
    "from model import run_model\n",
    "from params import par_class"
   ]
  },
  {
   "cell_type": "code",
   "execution_count": 2,
   "metadata": {},
   "outputs": [],
   "source": [
    "# Data\n",
    "THs = [27-25, 42-25, 57-25]\n",
    "zs  = [0.937, 0.802, 0.751]"
   ]
  },
  {
   "cell_type": "code",
   "execution_count": 3,
   "metadata": {},
   "outputs": [
    {
     "name": "stdout",
     "output_type": "stream",
     "text": [
      "beta = 0.92, rho=3.20, and objective = 0.0143910\n"
     ]
    }
   ],
   "source": [
    "# Minimize objective function in first narrow bound\n",
    "def get_z(gamma):\n",
    "    beta = gamma[0]\n",
    "    rho = gamma[1]*30\n",
    "    par = par_class()\n",
    "    par.Nm = 80\n",
    "    par.Nh = 12\n",
    "    par.simN = 100_000\n",
    "    par.beta = beta\n",
    "    par.rho = rho\n",
    "    zs_sim = []\n",
    "    for TH in THs:\n",
    "        par.TH = TH\n",
    "        _, sim = run_model(par)\n",
    "        z_mean = sim.z.mean()\n",
    "        zs_sim.append(z_mean)\n",
    "    mean_squared_dist = np.mean((np.array(zs) - np.array(zs_sim))**2)\n",
    "    return mean_squared_dist\n",
    "res = minimize(get_z, x0=(0.92, 3.2/30), bounds=[(0.91,0.93),(2.8/30,3.6/30)],\n",
    "               options={'eps': 0.001, 'ftol': 1e-02, 'gtol': 1e-02})\n",
    "print(f'beta = {res.x[0]:.2f}, rho={res.x[1]*30:.2f}, and objective = {res.fun:.7f}')"
   ]
  },
  {
   "cell_type": "code",
   "execution_count": 4,
   "metadata": {},
   "outputs": [
    {
     "name": "stdout",
     "output_type": "stream",
     "text": [
      "beta = 0.99, rho=4.80, and objective = 0.0143723\n"
     ]
    }
   ],
   "source": [
    "# Minimize objective function in second narrow bound\n",
    "def get_z(gamma):\n",
    "    beta = gamma[0]\n",
    "    rho = gamma[1]*30\n",
    "    par = par_class()\n",
    "    par.Nm = 80\n",
    "    par.Nh = 12\n",
    "    par.simN = 100_000\n",
    "    par.beta = beta\n",
    "    par.rho = rho\n",
    "    zs_sim = []\n",
    "    for TH in THs:\n",
    "        par.TH = TH\n",
    "        _, sim = run_model(par)\n",
    "        z_mean = sim.z.mean()\n",
    "        zs_sim.append(z_mean)\n",
    "    mean_squared_dist = np.mean((np.array(zs) - np.array(zs_sim))**2)\n",
    "    return mean_squared_dist\n",
    "res_2 = minimize(get_z, x0=(0.99, 4.8/30), bounds=[(0.98,1.0),(4.4/30,5.2/30)],\n",
    "                 options={'eps': 0.001, 'ftol': 1e-02, 'gtol': 1e-02})\n",
    "print(f'beta = {res_2.x[0]:.2f}, rho={res_2.x[1]*30:.2f}, and objective = {res_2.fun:.7f}')"
   ]
  }
 ],
 "metadata": {
  "kernelspec": {
   "display_name": "Python 3",
   "language": "python",
   "name": "python3"
  },
  "language_info": {
   "codemirror_mode": {
    "name": "ipython",
    "version": 3
   },
   "file_extension": ".py",
   "mimetype": "text/x-python",
   "name": "python",
   "nbconvert_exporter": "python",
   "pygments_lexer": "ipython3",
   "version": "3.8.5"
  }
 },
 "nbformat": 4,
 "nbformat_minor": 4
}
