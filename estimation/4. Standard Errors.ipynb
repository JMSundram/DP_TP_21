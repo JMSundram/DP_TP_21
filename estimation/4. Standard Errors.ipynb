{
 "cells": [
  {
   "cell_type": "code",
   "execution_count": 1,
   "metadata": {},
   "outputs": [],
   "source": [
    "import numpy as np\n",
    "import matplotlib.pyplot as plt\n",
    "from model import run_model\n",
    "from params import par_class"
   ]
  },
  {
   "cell_type": "code",
   "execution_count": 2,
   "metadata": {},
   "outputs": [],
   "source": [
    "# Data\n",
    "THs = [27-25, 42-25, 57-25]\n",
    "zs  = [0.937, 0.802, 0.751]"
   ]
  },
  {
   "cell_type": "code",
   "execution_count": 3,
   "metadata": {},
   "outputs": [
    {
     "name": "stdout",
     "output_type": "stream",
     "text": [
      "beta = 0.9895, rho=4.7950, and objective = 0.0143601640\n",
      "beta = 0.9895, rho=4.8000, and objective = 0.0143555478\n",
      "beta = 0.9895, rho=4.8050, and objective = 0.0143568311\n",
      "beta = 0.9900, rho=4.7950, and objective = 0.0143850978\n",
      "beta = 0.9900, rho=4.8000, and objective = 0.0143700730\n",
      "beta = 0.9900, rho=4.8050, and objective = 0.0143595088\n",
      "beta = 0.9905, rho=4.7950, and objective = 0.0144365393\n",
      "beta = 0.9905, rho=4.8000, and objective = 0.0144088054\n",
      "beta = 0.9905, rho=4.8050, and objective = 0.0143845642\n"
     ]
    }
   ],
   "source": [
    "# Function for computing simulated moments\n",
    "def get_zs_sim(gamma):\n",
    "    beta = gamma[0]\n",
    "    rho = gamma[1]\n",
    "    par = par_class()\n",
    "    par.Nm = 80\n",
    "    par.Nh = 12\n",
    "    par.simN = 250_000\n",
    "    par.beta = beta\n",
    "    par.rho = rho\n",
    "    zs_sim = []\n",
    "    for TH in THs:\n",
    "        par.TH = TH\n",
    "        _, sim = run_model(par)\n",
    "        z_mean = sim.z.mean()\n",
    "        zs_sim.append(z_mean)\n",
    "    mean_squared_dist = np.mean((np.array(zs) - np.array(zs_sim))**2)\n",
    "    print(f'beta = {beta:.4f}, rho={rho:.4f}, and objective = {mean_squared_dist:.10f}')\n",
    "    return np.array(zs_sim)\n",
    "\n",
    "# Compute simulated moments around estimator (to compute numerical gradient later)\n",
    "h1 = 0.0005 # Step size for beta\n",
    "h2 = 0.005  # Step size for rho\n",
    "zs_sim = np.nan + np.zeros((3,3,3))\n",
    "for i, beta in enumerate([0.99-h1, 0.99, 0.99+h1]):\n",
    "    for j, rho in enumerate([4.8-h2, 4.8, 4.8+h2]):\n",
    "        zs_sim[i,j,:] = get_zs_sim([beta,rho])"
   ]
  },
  {
   "cell_type": "code",
   "execution_count": 4,
   "metadata": {},
   "outputs": [
    {
     "name": "stdout",
     "output_type": "stream",
     "text": [
      "se(beta): 0.07643\n",
      "se(rho):  1.58300\n"
     ]
    }
   ],
   "source": [
    "# Sample size\n",
    "N1 = 269_424/0.937\n",
    "N2 = 244_893/0.802\n",
    "N3 = 228_937/0.751\n",
    "S = 250_000\n",
    "N = np.min([N1,N2,N3])\n",
    "\n",
    "# G matrix\n",
    "grad_0 = np.array(np.gradient(zs_sim[:,:,0], h1, h2))[:,1,1]\n",
    "grad_1 = np.array(np.gradient(zs_sim[:,:,1], h1, h2))[:,1,1]\n",
    "grad_2 = np.array(np.gradient(zs_sim[:,:,2], h1, h2))[:,1,1]\n",
    "G = np.nan + np.zeros((3,2))\n",
    "G[0,:] = grad_0\n",
    "G[1,:] = grad_1\n",
    "G[2,:] = grad_2\n",
    "\n",
    "# W matrix\n",
    "W = np.eye(3)\n",
    "\n",
    "# Omega matrix\n",
    "Omega = np.zeros((3,3))\n",
    "Omega[0,0] = 0.937*(1-0.937)\n",
    "Omega[1,1] = 0.802*(1-0.802)\n",
    "Omega[2,2] = 0.751*(1-0.751)\n",
    "\n",
    "# V matrix\n",
    "A_inv = np.linalg.inv(G.T @ W @ G)\n",
    "B = G.T @ W.T @ Omega @ W @ G\n",
    "V = A_inv @ B @ A_inv\n",
    "\n",
    "# Standard errors\n",
    "se = np.sqrt(np.diag((1/N)*(1+1/S)*V))\n",
    "print(f'se(beta): {se[0]:.5f}')\n",
    "print(f'se(rho):  {se[1]:.5f}')"
   ]
  }
 ],
 "metadata": {
  "kernelspec": {
   "display_name": "Python 3",
   "language": "python",
   "name": "python3"
  },
  "language_info": {
   "codemirror_mode": {
    "name": "ipython",
    "version": 3
   },
   "file_extension": ".py",
   "mimetype": "text/x-python",
   "name": "python",
   "nbconvert_exporter": "python",
   "pygments_lexer": "ipython3",
   "version": "3.8.5"
  }
 },
 "nbformat": 4,
 "nbformat_minor": 4
}
